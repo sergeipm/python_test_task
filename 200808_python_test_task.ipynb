{
 "cells": [
  {
   "cell_type": "code",
   "execution_count": 1,
   "metadata": {},
   "outputs": [],
   "source": [
    "# импорт библиотек\n",
    "from scipy import stats as st\n",
    "import scipy.stats as stats\n",
    "import pandas as pd\n",
    "import numpy as np\n",
    "import math \n",
    "import matplotlib.pyplot as plt\n",
    "import seaborn as sns\n",
    "import re\n",
    "pd.options.display.float_format = '{:,.1f}'.format"
   ]
  },
  {
   "cell_type": "code",
   "execution_count": 2,
   "metadata": {},
   "outputs": [],
   "source": [
    "# импорт таблицы с продажами\n",
    "sales = pd.read_excel('C:/Users/Sergei/2020_portfolio_projects/sales_ToShare.xlsx', sheet_name = 'Продажи')"
   ]
  },
  {
   "cell_type": "code",
   "execution_count": 3,
   "metadata": {},
   "outputs": [],
   "source": [
    "# импорт таблицы с остатками\n",
    "remains = pd.read_excel('C:/Users/Sergei/2020_portfolio_projects/remains_ToShare.xlsx')"
   ]
  },
  {
   "cell_type": "code",
   "execution_count": 4,
   "metadata": {},
   "outputs": [
    {
     "data": {
      "text/html": [
       "<div>\n",
       "<style scoped>\n",
       "    .dataframe tbody tr th:only-of-type {\n",
       "        vertical-align: middle;\n",
       "    }\n",
       "\n",
       "    .dataframe tbody tr th {\n",
       "        vertical-align: top;\n",
       "    }\n",
       "\n",
       "    .dataframe thead th {\n",
       "        text-align: right;\n",
       "    }\n",
       "</style>\n",
       "<table border=\"1\" class=\"dataframe\">\n",
       "  <thead>\n",
       "    <tr style=\"text-align: right;\">\n",
       "      <th></th>\n",
       "      <th>Артикул старый</th>\n",
       "      <th>Размер</th>\n",
       "      <th>Месяц</th>\n",
       "      <th>Продажи, шт.</th>\n",
       "    </tr>\n",
       "  </thead>\n",
       "  <tbody>\n",
       "    <tr>\n",
       "      <td>15942</td>\n",
       "      <td>0202212620733500</td>\n",
       "      <td>XS</td>\n",
       "      <td>9</td>\n",
       "      <td>92</td>\n",
       "    </tr>\n",
       "    <tr>\n",
       "      <td>9746</td>\n",
       "      <td>020123126083M0/79</td>\n",
       "      <td>M</td>\n",
       "      <td>9</td>\n",
       "      <td>95</td>\n",
       "    </tr>\n",
       "    <tr>\n",
       "      <td>21911</td>\n",
       "      <td>010262259233S0/70</td>\n",
       "      <td>XXL</td>\n",
       "      <td>9</td>\n",
       "      <td>89</td>\n",
       "    </tr>\n",
       "  </tbody>\n",
       "</table>\n",
       "</div>"
      ],
      "text/plain": [
       "          Артикул старый Размер  Месяц  Продажи, шт.\n",
       "15942   0202212620733500     XS      9            92\n",
       "9746   020123126083M0/79      M      9            95\n",
       "21911  010262259233S0/70    XXL      9            89"
      ]
     },
     "execution_count": 4,
     "metadata": {},
     "output_type": "execute_result"
    }
   ],
   "source": [
    "# вывод данных таблицы\n",
    "sales.sample(3)"
   ]
  },
  {
   "cell_type": "code",
   "execution_count": 5,
   "metadata": {},
   "outputs": [
    {
     "data": {
      "text/html": [
       "<div>\n",
       "<style scoped>\n",
       "    .dataframe tbody tr th:only-of-type {\n",
       "        vertical-align: middle;\n",
       "    }\n",
       "\n",
       "    .dataframe tbody tr th {\n",
       "        vertical-align: top;\n",
       "    }\n",
       "\n",
       "    .dataframe thead th {\n",
       "        text-align: right;\n",
       "    }\n",
       "</style>\n",
       "<table border=\"1\" class=\"dataframe\">\n",
       "  <thead>\n",
       "    <tr style=\"text-align: right;\">\n",
       "      <th></th>\n",
       "      <th>Артикул новый</th>\n",
       "      <th>Размер</th>\n",
       "      <th>Остаток на складе, шт.</th>\n",
       "      <th>Себестоимость, руб.</th>\n",
       "      <th>Цена продажи, руб.</th>\n",
       "    </tr>\n",
       "  </thead>\n",
       "  <tbody>\n",
       "    <tr>\n",
       "      <td>396</td>\n",
       "      <td>010213295032 6000                             ...</td>\n",
       "      <td>XL</td>\n",
       "      <td>2136</td>\n",
       "      <td>1493</td>\n",
       "      <td>3464</td>\n",
       "    </tr>\n",
       "    <tr>\n",
       "      <td>5341</td>\n",
       "      <td>02025827Y533 59S0                             ...</td>\n",
       "      <td>S</td>\n",
       "      <td>1487</td>\n",
       "      <td>1019</td>\n",
       "      <td>2354</td>\n",
       "    </tr>\n",
       "    <tr>\n",
       "      <td>9985</td>\n",
       "      <td>810119359275 9900                             ...</td>\n",
       "      <td>L</td>\n",
       "      <td>425</td>\n",
       "      <td>381</td>\n",
       "      <td>789</td>\n",
       "    </tr>\n",
       "  </tbody>\n",
       "</table>\n",
       "</div>"
      ],
      "text/plain": [
       "                                          Артикул новый Размер  \\\n",
       "396   010213295032 6000                             ...     XL   \n",
       "5341  02025827Y533 59S0                             ...      S   \n",
       "9985  810119359275 9900                             ...      L   \n",
       "\n",
       "      Остаток на складе, шт.  Себестоимость, руб.  Цена продажи, руб.  \n",
       "396                     2136                 1493                3464  \n",
       "5341                    1487                 1019                2354  \n",
       "9985                     425                  381                 789  "
      ]
     },
     "execution_count": 5,
     "metadata": {},
     "output_type": "execute_result"
    }
   ],
   "source": [
    "# вывод данных таблицы, удаление лишних символов в наименовании размера\n",
    "remains['Размер'] = remains['Размер'].str.strip()\n",
    "remains.sample(3)"
   ]
  },
  {
   "cell_type": "code",
   "execution_count": 6,
   "metadata": {},
   "outputs": [],
   "source": [
    "# обработка старых индексов согласно описанию для таблицы продаж\n",
    "def fix_index(row):\n",
    "    old_code = row['Артикул старый']\n",
    "    split_code =  old_code.split('/')\n",
    "    if len(split_code[0]) == 12:\n",
    "        new_code = (split_code[0] + split_code[1])\n",
    "        return new_code\n",
    "    if len(split_code[0]) == 14:\n",
    "        new_code = (''.join(list(split_code[0])[0:12]) + split_code[1] + ''.join(list(split_code[0])[12:14]))\n",
    "        return new_code\n",
    "    if len(split_code[0]) == 16:\n",
    "        new_code = split_code[0]\n",
    "        return new_code    \n",
    "    else:\n",
    "        return old_code"
   ]
  },
  {
   "cell_type": "code",
   "execution_count": 7,
   "metadata": {},
   "outputs": [],
   "source": [
    "# применение функции для таблицы продаж\n",
    "sales['new_code'] = sales.apply(fix_index, axis = 1) "
   ]
  },
  {
   "cell_type": "code",
   "execution_count": 8,
   "metadata": {},
   "outputs": [
    {
     "data": {
      "text/html": [
       "<div>\n",
       "<style scoped>\n",
       "    .dataframe tbody tr th:only-of-type {\n",
       "        vertical-align: middle;\n",
       "    }\n",
       "\n",
       "    .dataframe tbody tr th {\n",
       "        vertical-align: top;\n",
       "    }\n",
       "\n",
       "    .dataframe thead th {\n",
       "        text-align: right;\n",
       "    }\n",
       "</style>\n",
       "<table border=\"1\" class=\"dataframe\">\n",
       "  <thead>\n",
       "    <tr style=\"text-align: right;\">\n",
       "      <th></th>\n",
       "      <th>Артикул старый</th>\n",
       "      <th>Размер</th>\n",
       "      <th>Месяц</th>\n",
       "      <th>Продажи, шт.</th>\n",
       "      <th>new_code</th>\n",
       "    </tr>\n",
       "  </thead>\n",
       "  <tbody>\n",
       "    <tr>\n",
       "      <td>37841</td>\n",
       "      <td>22023796706250D0</td>\n",
       "      <td>XS</td>\n",
       "      <td>6</td>\n",
       "      <td>90</td>\n",
       "      <td>22023796706250D0</td>\n",
       "    </tr>\n",
       "    <tr>\n",
       "      <td>7267</td>\n",
       "      <td>020243226063/7500</td>\n",
       "      <td>S</td>\n",
       "      <td>10</td>\n",
       "      <td>50</td>\n",
       "      <td>0202432260637500</td>\n",
       "    </tr>\n",
       "    <tr>\n",
       "      <td>20263</td>\n",
       "      <td>210257S5108200/50</td>\n",
       "      <td>S</td>\n",
       "      <td>6</td>\n",
       "      <td>67</td>\n",
       "      <td>210257S510825000</td>\n",
       "    </tr>\n",
       "    <tr>\n",
       "      <td>37819</td>\n",
       "      <td>22025718S091D0/55</td>\n",
       "      <td>27</td>\n",
       "      <td>6</td>\n",
       "      <td>82</td>\n",
       "      <td>22025718S09155D0</td>\n",
       "    </tr>\n",
       "    <tr>\n",
       "      <td>27299</td>\n",
       "      <td>02023327317391A0</td>\n",
       "      <td>XS</td>\n",
       "      <td>8</td>\n",
       "      <td>60</td>\n",
       "      <td>02023327317391A0</td>\n",
       "    </tr>\n",
       "  </tbody>\n",
       "</table>\n",
       "</div>"
      ],
      "text/plain": [
       "          Артикул старый Размер  Месяц  Продажи, шт.          new_code\n",
       "37841   22023796706250D0     XS      6            90  22023796706250D0\n",
       "7267   020243226063/7500      S     10            50  0202432260637500\n",
       "20263  210257S5108200/50      S      6            67  210257S510825000\n",
       "37819  22025718S091D0/55     27      6            82  22025718S09155D0\n",
       "27299   02023327317391A0     XS      8            60  02023327317391A0"
      ]
     },
     "execution_count": 8,
     "metadata": {},
     "output_type": "execute_result"
    }
   ],
   "source": [
    "sales.sample(5)"
   ]
  },
  {
   "cell_type": "code",
   "execution_count": 9,
   "metadata": {},
   "outputs": [],
   "source": [
    "# проверка корректности замены по длине нового артикула\n",
    "# def len_code(row):\n",
    "#     lentgh = len(row['new_code'])\n",
    "#     return lentgh\n",
    "\n",
    "# sales['code_size'] = sales.apply(len_code, axis = 1)"
   ]
  },
  {
   "cell_type": "code",
   "execution_count": 10,
   "metadata": {},
   "outputs": [],
   "source": [
    "# корректировка новых артикулов для таблицы с остатками\n",
    "def fix_index_remains(row):\n",
    "    new_code = ''.join(row['Артикул новый'].split(' '))\n",
    "    return new_code"
   ]
  },
  {
   "cell_type": "code",
   "execution_count": 11,
   "metadata": {},
   "outputs": [],
   "source": [
    "# применение функции для обработки новых артикулов в таблице с остатками\n",
    "remains['new_code'] = remains.apply(fix_index_remains, axis = 1)"
   ]
  },
  {
   "cell_type": "code",
   "execution_count": 12,
   "metadata": {},
   "outputs": [],
   "source": [
    "# sales['Размер'].value_counts()"
   ]
  },
  {
   "cell_type": "code",
   "execution_count": 13,
   "metadata": {},
   "outputs": [],
   "source": [
    "# remains['Размер'].value_counts()"
   ]
  },
  {
   "cell_type": "code",
   "execution_count": 14,
   "metadata": {},
   "outputs": [],
   "source": [
    "# объединение таблиц продаж и остатков\n",
    "df = sales[[ 'Месяц', 'Продажи, шт.', 'new_code']].merge(remains[['Себестоимость, руб.', \n",
    "                                                                  'Цена продажи, руб.', 'new_code','Остаток на складе, шт.']],\n",
    "                                                    on='new_code', how = 'outer')"
   ]
  },
  {
   "cell_type": "code",
   "execution_count": 15,
   "metadata": {},
   "outputs": [],
   "source": [
    "# задаём новые названия столбцов для удобства\n",
    "df.columns = ['месяц', 'продажи', 'new_code', 'себестоимость',\n",
    "       'цена','остаток']"
   ]
  },
  {
   "cell_type": "code",
   "execution_count": 16,
   "metadata": {},
   "outputs": [
    {
     "data": {
      "text/html": [
       "<div>\n",
       "<style scoped>\n",
       "    .dataframe tbody tr th:only-of-type {\n",
       "        vertical-align: middle;\n",
       "    }\n",
       "\n",
       "    .dataframe tbody tr th {\n",
       "        vertical-align: top;\n",
       "    }\n",
       "\n",
       "    .dataframe thead th {\n",
       "        text-align: right;\n",
       "    }\n",
       "</style>\n",
       "<table border=\"1\" class=\"dataframe\">\n",
       "  <thead>\n",
       "    <tr style=\"text-align: right;\">\n",
       "      <th></th>\n",
       "      <th>месяц</th>\n",
       "      <th>продажи</th>\n",
       "      <th>себестоимость</th>\n",
       "      <th>цена</th>\n",
       "      <th>остаток</th>\n",
       "    </tr>\n",
       "  </thead>\n",
       "  <tbody>\n",
       "    <tr>\n",
       "      <td>count</td>\n",
       "      <td>302,421.0</td>\n",
       "      <td>302,421.0</td>\n",
       "      <td>303,896.0</td>\n",
       "      <td>303,896.0</td>\n",
       "      <td>303,896.0</td>\n",
       "    </tr>\n",
       "    <tr>\n",
       "      <td>mean</td>\n",
       "      <td>9.0</td>\n",
       "      <td>84.1</td>\n",
       "      <td>905.7</td>\n",
       "      <td>2,266.1</td>\n",
       "      <td>488.3</td>\n",
       "    </tr>\n",
       "    <tr>\n",
       "      <td>std</td>\n",
       "      <td>2.0</td>\n",
       "      <td>20.0</td>\n",
       "      <td>345.8</td>\n",
       "      <td>910.2</td>\n",
       "      <td>567.8</td>\n",
       "    </tr>\n",
       "    <tr>\n",
       "      <td>min</td>\n",
       "      <td>6.0</td>\n",
       "      <td>2.0</td>\n",
       "      <td>300.0</td>\n",
       "      <td>602.0</td>\n",
       "      <td>1.0</td>\n",
       "    </tr>\n",
       "    <tr>\n",
       "      <td>25%</td>\n",
       "      <td>7.0</td>\n",
       "      <td>71.0</td>\n",
       "      <td>607.0</td>\n",
       "      <td>1,486.0</td>\n",
       "      <td>131.0</td>\n",
       "    </tr>\n",
       "    <tr>\n",
       "      <td>50%</td>\n",
       "      <td>9.0</td>\n",
       "      <td>84.0</td>\n",
       "      <td>911.0</td>\n",
       "      <td>2,250.0</td>\n",
       "      <td>310.0</td>\n",
       "    </tr>\n",
       "    <tr>\n",
       "      <td>75%</td>\n",
       "      <td>11.0</td>\n",
       "      <td>98.0</td>\n",
       "      <td>1,204.0</td>\n",
       "      <td>2,959.0</td>\n",
       "      <td>635.0</td>\n",
       "    </tr>\n",
       "    <tr>\n",
       "      <td>max</td>\n",
       "      <td>12.0</td>\n",
       "      <td>174.0</td>\n",
       "      <td>1,500.0</td>\n",
       "      <td>4,476.0</td>\n",
       "      <td>9,610.0</td>\n",
       "    </tr>\n",
       "  </tbody>\n",
       "</table>\n",
       "</div>"
      ],
      "text/plain": [
       "          месяц   продажи  себестоимость      цена   остаток\n",
       "count 302,421.0 302,421.0      303,896.0 303,896.0 303,896.0\n",
       "mean        9.0      84.1          905.7   2,266.1     488.3\n",
       "std         2.0      20.0          345.8     910.2     567.8\n",
       "min         6.0       2.0          300.0     602.0       1.0\n",
       "25%         7.0      71.0          607.0   1,486.0     131.0\n",
       "50%         9.0      84.0          911.0   2,250.0     310.0\n",
       "75%        11.0      98.0        1,204.0   2,959.0     635.0\n",
       "max        12.0     174.0        1,500.0   4,476.0   9,610.0"
      ]
     },
     "execution_count": 16,
     "metadata": {},
     "output_type": "execute_result"
    }
   ],
   "source": [
    "# предварительная оценка объединённой таблицы\n",
    "df.describe()"
   ]
  },
  {
   "cell_type": "code",
   "execution_count": 17,
   "metadata": {},
   "outputs": [],
   "source": [
    "# заполнение пропусков согласно условию\n",
    "df['себестоимость'] = df['себестоимость'].fillna(200)\n",
    "df['цена'] = df['цена'].fillna(1000)\n",
    "df['продажи'] = df['продажи'].fillna(0)\n",
    "df['месяц'] = df['месяц'].fillna(0)\n",
    "df['остаток'] = df['остаток'].fillna(0)"
   ]
  },
  {
   "cell_type": "code",
   "execution_count": 18,
   "metadata": {},
   "outputs": [],
   "source": [
    "# калькуляция суммы продаж и прибыли\n",
    "df['месяц'] = df['месяц'].astype(int)\n",
    "df['сумма_продаж'] = df['цена'] * df['продажи']\n",
    "df['сумма_прибыли'] = df['продажи'] * (df['цена'] - df['себестоимость'])"
   ]
  },
  {
   "cell_type": "code",
   "execution_count": 19,
   "metadata": {},
   "outputs": [
    {
     "data": {
      "text/html": [
       "<div>\n",
       "<style scoped>\n",
       "    .dataframe tbody tr th:only-of-type {\n",
       "        vertical-align: middle;\n",
       "    }\n",
       "\n",
       "    .dataframe tbody tr th {\n",
       "        vertical-align: top;\n",
       "    }\n",
       "\n",
       "    .dataframe thead th {\n",
       "        text-align: right;\n",
       "    }\n",
       "</style>\n",
       "<table border=\"1\" class=\"dataframe\">\n",
       "  <thead>\n",
       "    <tr style=\"text-align: right;\">\n",
       "      <th></th>\n",
       "      <th>месяц</th>\n",
       "      <th>сумма_прибыли</th>\n",
       "      <th>сумма_продаж</th>\n",
       "    </tr>\n",
       "  </thead>\n",
       "  <tbody>\n",
       "    <tr>\n",
       "      <td>3</td>\n",
       "      <td>8</td>\n",
       "      <td>4,957,553,166.0</td>\n",
       "      <td>8,256,091,435.0</td>\n",
       "    </tr>\n",
       "    <tr>\n",
       "      <td>6</td>\n",
       "      <td>11</td>\n",
       "      <td>4,948,056,542.0</td>\n",
       "      <td>8,241,074,535.0</td>\n",
       "    </tr>\n",
       "    <tr>\n",
       "      <td>2</td>\n",
       "      <td>7</td>\n",
       "      <td>4,939,804,131.0</td>\n",
       "      <td>8,227,202,397.0</td>\n",
       "    </tr>\n",
       "    <tr>\n",
       "      <td>4</td>\n",
       "      <td>9</td>\n",
       "      <td>4,933,500,198.0</td>\n",
       "      <td>8,213,942,791.0</td>\n",
       "    </tr>\n",
       "    <tr>\n",
       "      <td>7</td>\n",
       "      <td>12</td>\n",
       "      <td>4,931,479,733.0</td>\n",
       "      <td>8,212,290,544.0</td>\n",
       "    </tr>\n",
       "    <tr>\n",
       "      <td>5</td>\n",
       "      <td>10</td>\n",
       "      <td>4,929,346,323.0</td>\n",
       "      <td>8,209,721,672.0</td>\n",
       "    </tr>\n",
       "    <tr>\n",
       "      <td>1</td>\n",
       "      <td>6</td>\n",
       "      <td>4,927,362,938.0</td>\n",
       "      <td>8,205,817,650.0</td>\n",
       "    </tr>\n",
       "    <tr>\n",
       "      <td>0</td>\n",
       "      <td>0</td>\n",
       "      <td>0.0</td>\n",
       "      <td>0.0</td>\n",
       "    </tr>\n",
       "  </tbody>\n",
       "</table>\n",
       "</div>"
      ],
      "text/plain": [
       "   месяц   сумма_прибыли    сумма_продаж\n",
       "3      8 4,957,553,166.0 8,256,091,435.0\n",
       "6     11 4,948,056,542.0 8,241,074,535.0\n",
       "2      7 4,939,804,131.0 8,227,202,397.0\n",
       "4      9 4,933,500,198.0 8,213,942,791.0\n",
       "7     12 4,931,479,733.0 8,212,290,544.0\n",
       "5     10 4,929,346,323.0 8,209,721,672.0\n",
       "1      6 4,927,362,938.0 8,205,817,650.0\n",
       "0      0             0.0             0.0"
      ]
     },
     "execution_count": 19,
     "metadata": {},
     "output_type": "execute_result"
    }
   ],
   "source": [
    "# вывод значений прибыли о продаж\n",
    "total_sales = df.groupby('месяц').agg({'сумма_прибыли':'sum',\n",
    "         'сумма_продаж':'sum',}).reset_index().sort_values(by = 'сумма_продаж', ascending = False).dropna()\n",
    "total_sales"
   ]
  },
  {
   "cell_type": "code",
   "execution_count": 20,
   "metadata": {},
   "outputs": [
    {
     "data": {
      "image/png": "[encoded data removed]",
      "text/plain": [
       "<Figure size 1080x216 with 1 Axes>"
      ]
     },
     "metadata": {
      "needs_background": "light"
     },
     "output_type": "display_data"
    }
   ],
   "source": [
    "fig = plt.figure(figsize=(15,3))\n",
    "ax = sns.barplot(x=\"месяц\", y=\"сумма_продаж\", data=total_sales)\n",
    "plt.title('Продажи по месяцам')\n",
    "plt.grid()\n",
    "plt.ylim(8200000000,8300000000)\n",
    "plt.show()"
   ]
  },
  {
   "cell_type": "code",
   "execution_count": 21,
   "metadata": {},
   "outputs": [
    {
     "name": "stdout",
     "output_type": "stream",
     "text": [
      "сумма продаж в рублях за июль :  8227202397.0 рублей\n"
     ]
    }
   ],
   "source": [
    "# сумма продаж в рублях за июль\n",
    "print('сумма продаж в рублях за июль : ',df[df['месяц'] == 7]['сумма_продаж'].sum(),'рублей')"
   ]
  },
  {
   "cell_type": "code",
   "execution_count": 22,
   "metadata": {},
   "outputs": [
    {
     "name": "stdout",
     "output_type": "stream",
     "text": [
      "сумма прибыли в рублях за октябрь :  4929346323.0 рублей\n"
     ]
    }
   ],
   "source": [
    "# сумма прибыли в рублях за октябрь\n",
    "print('сумма прибыли в рублях за октябрь : ',df[df['месяц'] == 10]['сумма_прибыли'].sum(),'рублей')"
   ]
  },
  {
   "cell_type": "code",
   "execution_count": 23,
   "metadata": {},
   "outputs": [
    {
     "name": "stdout",
     "output_type": "stream",
     "text": [
      "артикул (новый), который в рейтинге продаж (в рублях) был на 5 месте в августе\n"
     ]
    },
    {
     "data": {
      "text/html": [
       "<div>\n",
       "<style scoped>\n",
       "    .dataframe tbody tr th:only-of-type {\n",
       "        vertical-align: middle;\n",
       "    }\n",
       "\n",
       "    .dataframe tbody tr th {\n",
       "        vertical-align: top;\n",
       "    }\n",
       "\n",
       "    .dataframe thead th {\n",
       "        text-align: right;\n",
       "    }\n",
       "</style>\n",
       "<table border=\"1\" class=\"dataframe\">\n",
       "  <thead>\n",
       "    <tr style=\"text-align: right;\">\n",
       "      <th></th>\n",
       "      <th>index</th>\n",
       "      <th>new_code</th>\n",
       "      <th>сумма_продаж</th>\n",
       "    </tr>\n",
       "  </thead>\n",
       "  <tbody>\n",
       "    <tr>\n",
       "      <td>4</td>\n",
       "      <td>837</td>\n",
       "      <td>02024717Y04255D0</td>\n",
       "      <td>16,046,103.0</td>\n",
       "    </tr>\n",
       "  </tbody>\n",
       "</table>\n",
       "</div>"
      ],
      "text/plain": [
       "   index          new_code  сумма_продаж\n",
       "4    837  02024717Y04255D0  16,046,103.0"
      ]
     },
     "execution_count": 23,
     "metadata": {},
     "output_type": "execute_result"
    }
   ],
   "source": [
    "# находим пятый по популярности артикул в августе\n",
    "print('артикул (новый), который в рейтинге продаж (в рублях) был на 5 месте в августе')\n",
    "df[df['месяц'] == 8].groupby('new_code')['сумма_продаж'].sum().reset_index().sort_values(\n",
    "    by = 'сумма_продаж',ascending = False).head(5).reset_index().loc[4:]"
   ]
  },
  {
   "cell_type": "code",
   "execution_count": 24,
   "metadata": {},
   "outputs": [
    {
     "name": "stdout",
     "output_type": "stream",
     "text": [
      "остаток на складе ТОП-10 артикулов по продажам (в рублях) в августе\n"
     ]
    },
    {
     "data": {
      "text/html": [
       "<div>\n",
       "<style scoped>\n",
       "    .dataframe tbody tr th:only-of-type {\n",
       "        vertical-align: middle;\n",
       "    }\n",
       "\n",
       "    .dataframe tbody tr th {\n",
       "        vertical-align: top;\n",
       "    }\n",
       "\n",
       "    .dataframe thead th {\n",
       "        text-align: right;\n",
       "    }\n",
       "</style>\n",
       "<table border=\"1\" class=\"dataframe\">\n",
       "  <thead>\n",
       "    <tr style=\"text-align: right;\">\n",
       "      <th></th>\n",
       "      <th>Остаток на складе, шт.</th>\n",
       "    </tr>\n",
       "    <tr>\n",
       "      <th>new_code</th>\n",
       "      <th></th>\n",
       "    </tr>\n",
       "  </thead>\n",
       "  <tbody>\n",
       "    <tr>\n",
       "      <td>02021714Z10351D0</td>\n",
       "      <td>10165</td>\n",
       "    </tr>\n",
       "    <tr>\n",
       "      <td>02021714Z10350D0</td>\n",
       "      <td>5152</td>\n",
       "    </tr>\n",
       "    <tr>\n",
       "      <td>22024712Y06350D0</td>\n",
       "      <td>5043</td>\n",
       "    </tr>\n",
       "    <tr>\n",
       "      <td>02024717Y04255D0</td>\n",
       "      <td>4695</td>\n",
       "    </tr>\n",
       "    <tr>\n",
       "      <td>02024717Y04251D0</td>\n",
       "      <td>3376</td>\n",
       "    </tr>\n",
       "    <tr>\n",
       "      <td>02021712Y01255D0</td>\n",
       "      <td>3042</td>\n",
       "    </tr>\n",
       "    <tr>\n",
       "      <td>02021714S02350D0</td>\n",
       "      <td>2932</td>\n",
       "    </tr>\n",
       "    <tr>\n",
       "      <td>22023714Z11351D0</td>\n",
       "      <td>2622</td>\n",
       "    </tr>\n",
       "    <tr>\n",
       "      <td>22023714Z11355D0</td>\n",
       "      <td>1989</td>\n",
       "    </tr>\n",
       "    <tr>\n",
       "      <td>32024712Y02351D0</td>\n",
       "      <td>1364</td>\n",
       "    </tr>\n",
       "  </tbody>\n",
       "</table>\n",
       "</div>"
      ],
      "text/plain": [
       "                  Остаток на складе, шт.\n",
       "new_code                                \n",
       "02021714Z10351D0                   10165\n",
       "02021714Z10350D0                    5152\n",
       "22024712Y06350D0                    5043\n",
       "02024717Y04255D0                    4695\n",
       "02024717Y04251D0                    3376\n",
       "02021712Y01255D0                    3042\n",
       "02021714S02350D0                    2932\n",
       "22023714Z11351D0                    2622\n",
       "22023714Z11355D0                    1989\n",
       "32024712Y02351D0                    1364"
      ]
     },
     "execution_count": 24,
     "metadata": {},
     "output_type": "execute_result"
    }
   ],
   "source": [
    "# находим 10 самых популярных артикулов за август\n",
    "top_10_august = df[df['месяц'] == 8].groupby('new_code')['сумма_продаж'].sum().reset_index(\n",
    ").sort_values(by = 'сумма_продаж',ascending = False).head(10).reset_index()['new_code']\n",
    "print('остаток на складе ТОП-10 артикулов по продажам (в рублях) в августе')\n",
    "remains[remains['new_code'].isin(top_10_august)].groupby('new_code').agg(\n",
    "    {'Остаток на складе, шт.':'sum'}).sort_values(by = 'Остаток на складе, шт.',\n",
    "                   ascending = False)"
   ]
  },
  {
   "cell_type": "code",
   "execution_count": 25,
   "metadata": {},
   "outputs": [
    {
     "data": {
      "image/png": "[encoded data removed]",
      "text/plain": [
       "<Figure size 1080x216 with 1 Axes>"
      ]
     },
     "metadata": {
      "needs_background": "light"
     },
     "output_type": "display_data"
    }
   ],
   "source": [
    "# визуализация топ-10 артикулов августа\n",
    "fig = plt.figure(figsize=(15,3))\n",
    "ax = sns.barplot(x=\"new_code\", y=\"Остаток на складе, шт.\",\n",
    "                 data=remains[remains['new_code'].isin(top_10_august\n",
    "                )].groupby('new_code').agg({'Остаток на складе, шт.':'sum'}).sort_values(by = 'Остаток на складе, шт.',\n",
    "                ascending = False).reset_index())\n",
    "plt.title('Топ остатков за август')\n",
    "plt.grid()\n",
    "plt.xticks(rotation = 45)\n",
    "plt.show()"
   ]
  },
  {
   "cell_type": "code",
   "execution_count": 26,
   "metadata": {},
   "outputs": [
    {
     "data": {
      "image/png": "[encoded data removed]",
      "text/plain": [
       "<Figure size 432x288 with 1 Axes>"
      ]
     },
     "metadata": {
      "needs_background": "light"
     },
     "output_type": "display_data"
    }
   ],
   "source": [
    "# проверка нормальности распределения графиком квантиль квантиль плот\n",
    "import numpy as np \n",
    "import pylab \n",
    "import scipy.stats as stats\n",
    "\n",
    "measurements = sales['Продажи, шт.']\n",
    "stats.probplot(measurements, dist=\"norm\", plot=pylab)\n",
    "pylab.show()"
   ]
  },
  {
   "cell_type": "code",
   "execution_count": 27,
   "metadata": {},
   "outputs": [
    {
     "data": {
      "image/png": "[encoded data removed]",
      "text/plain": [
       "<Figure size 432x288 with 1 Axes>"
      ]
     },
     "metadata": {
      "needs_background": "light"
     },
     "output_type": "display_data"
    }
   ],
   "source": [
    "# распределение значений продаж\n",
    "ax = sns.distplot(sales['Продажи, шт.'])"
   ]
  },
  {
   "cell_type": "code",
   "execution_count": 28,
   "metadata": {},
   "outputs": [
    {
     "name": "stdout",
     "output_type": "stream",
     "text": [
      "Стандартное отклонение :19.9\n",
      "Дисперсия: 397.5\n"
     ]
    }
   ],
   "source": [
    "# не совсем понял, что такое квадратное отклонение, стандартное отклонение и дисперсию нашёл\n",
    "print('Стандартное отклонение :{:.1f}'.format(np.std(sales['Продажи, шт.'])))\n",
    "print('Дисперсия: {:.1f}'.format(np.var(sales['Продажи, шт.'])))"
   ]
  },
  {
   "cell_type": "code",
   "execution_count": 29,
   "metadata": {},
   "outputs": [
    {
     "data": {
      "text/html": [
       "<div>\n",
       "<style scoped>\n",
       "    .dataframe tbody tr th:only-of-type {\n",
       "        vertical-align: middle;\n",
       "    }\n",
       "\n",
       "    .dataframe tbody tr th {\n",
       "        vertical-align: top;\n",
       "    }\n",
       "\n",
       "    .dataframe thead th {\n",
       "        text-align: right;\n",
       "    }\n",
       "</style>\n",
       "<table border=\"1\" class=\"dataframe\">\n",
       "  <thead>\n",
       "    <tr style=\"text-align: right;\">\n",
       "      <th></th>\n",
       "      <th>Месяц</th>\n",
       "      <th>Продажи, шт.</th>\n",
       "    </tr>\n",
       "  </thead>\n",
       "  <tbody>\n",
       "    <tr>\n",
       "      <td>count</td>\n",
       "      <td>60,074.0</td>\n",
       "      <td>60,074.0</td>\n",
       "    </tr>\n",
       "    <tr>\n",
       "      <td>mean</td>\n",
       "      <td>9.0</td>\n",
       "      <td>84.1</td>\n",
       "    </tr>\n",
       "    <tr>\n",
       "      <td>std</td>\n",
       "      <td>2.0</td>\n",
       "      <td>19.9</td>\n",
       "    </tr>\n",
       "    <tr>\n",
       "      <td>min</td>\n",
       "      <td>6.0</td>\n",
       "      <td>2.0</td>\n",
       "    </tr>\n",
       "    <tr>\n",
       "      <td>25%</td>\n",
       "      <td>7.0</td>\n",
       "      <td>71.0</td>\n",
       "    </tr>\n",
       "    <tr>\n",
       "      <td>50%</td>\n",
       "      <td>9.0</td>\n",
       "      <td>84.0</td>\n",
       "    </tr>\n",
       "    <tr>\n",
       "      <td>75%</td>\n",
       "      <td>11.0</td>\n",
       "      <td>98.0</td>\n",
       "    </tr>\n",
       "    <tr>\n",
       "      <td>max</td>\n",
       "      <td>12.0</td>\n",
       "      <td>174.0</td>\n",
       "    </tr>\n",
       "  </tbody>\n",
       "</table>\n",
       "</div>"
      ],
      "text/plain": [
       "         Месяц  Продажи, шт.\n",
       "count 60,074.0      60,074.0\n",
       "mean       9.0          84.1\n",
       "std        2.0          19.9\n",
       "min        6.0           2.0\n",
       "25%        7.0          71.0\n",
       "50%        9.0          84.0\n",
       "75%       11.0          98.0\n",
       "max       12.0         174.0"
      ]
     },
     "execution_count": 29,
     "metadata": {},
     "output_type": "execute_result"
    }
   ],
   "source": [
    "# самый простой способ оценить основные параметры распределения выборки\n",
    "sales.describe()"
   ]
  },
  {
   "cell_type": "code",
   "execution_count": 30,
   "metadata": {},
   "outputs": [
    {
     "name": "stdout",
     "output_type": "stream",
     "text": [
      "95 процентов значений продаж лежат в диапазоне 45 - 123 шт.\n"
     ]
    }
   ],
   "source": [
    "# выводим значения продаж, входящие в диапазон две сигмы\n",
    "print('95 процентов значений продаж лежат в диапазоне {:.0f} - {:.0f} шт.'.format(sales['Продажи, шт.'].quantile(0.025),\n",
    "                sales['Продажи, шт.'].quantile(0.975)))"
   ]
  },
  {
   "cell_type": "code",
   "execution_count": 31,
   "metadata": {},
   "outputs": [],
   "source": [
    "# группируем данные продаж и остатков по размерам\n",
    "# для буквенных обозначений строим отдельные визуализации\n",
    "sales_sizes_letter = sales[sales['Размер'].isin(['M',\n",
    "    'L', 'S', 'XL', 'XS', 'XXL', 'XXXL', 'XXS'])].groupby('Размер').agg({'Продажи, шт.':'sum'}).reset_index()\n",
    "sales_sizes = sales.groupby('Размер').agg({'Продажи, шт.':'sum'}).reset_index()\n",
    "remains_sizes_letter = remains[remains['Размер'].isin(['M',\n",
    "      'L', 'S', 'XL', 'XS', 'XXL', 'XXXL', 'XXS'])].groupby('Размер').agg({'Остаток на складе, шт.':'sum'}).reset_index()\n",
    "remains_sizes = remains.groupby('Размер').agg({'Остаток на складе, шт.':'sum'}).reset_index()"
   ]
  },
  {
   "cell_type": "code",
   "execution_count": 32,
   "metadata": {},
   "outputs": [
    {
     "data": {
      "image/png": "[encoded data removed]",
      "text/plain": [
       "<Figure size 1080x216 with 1 Axes>"
      ]
     },
     "metadata": {
      "needs_background": "light"
     },
     "output_type": "display_data"
    },
    {
     "data": {
      "image/png": "[encoded data removed]",
      "text/plain": [
       "<Figure size 1080x216 with 1 Axes>"
      ]
     },
     "metadata": {
      "needs_background": "light"
     },
     "output_type": "display_data"
    }
   ],
   "source": [
    "fig = plt.figure(figsize=(15,3))\n",
    "ax = sns.barplot(x=\"Размер\", y=\"Продажи, шт.\", data=sales_sizes)\n",
    "plt.title('Продажи по размерам')\n",
    "plt.grid()\n",
    "plt.show()\n",
    "fig = plt.figure(figsize=(15,3))\n",
    "ax = sns.barplot(x=\"Размер\", y=\"Остаток на складе, шт.\", data=remains_sizes)\n",
    "plt.title('Остатки по размерам')\n",
    "plt.grid()\n",
    "plt.show()"
   ]
  },
  {
   "cell_type": "code",
   "execution_count": 33,
   "metadata": {},
   "outputs": [
    {
     "data": {
      "image/png": "[encoded data removed]",
      "text/plain": [
       "<Figure size 1080x216 with 1 Axes>"
      ]
     },
     "metadata": {
      "needs_background": "light"
     },
     "output_type": "display_data"
    },
    {
     "data": {
      "image/png": "[encoded data removed]",
      "text/plain": [
       "<Figure size 1080x216 with 1 Axes>"
      ]
     },
     "metadata": {
      "needs_background": "light"
     },
     "output_type": "display_data"
    }
   ],
   "source": [
    "fig = plt.figure(figsize=(15,3))\n",
    "ax = sns.barplot(x=\"Размер\", y=\"Продажи, шт.\", data=sales_sizes_letter)\n",
    "plt.grid()\n",
    "plt.title('Продажи размеров буквенного наименования')\n",
    "plt.show()\n",
    "fig = plt.figure(figsize=(15,3))\n",
    "ax = sns.barplot(x=\"Размер\", y=\"Остаток на складе, шт.\", data=remains_sizes_letter)\n",
    "plt.title('Остатки размеров буквенного наименования')\n",
    "plt.grid()\n",
    "plt.show()"
   ]
  }
 ],
 "metadata": {
  "kernelspec": {
   "display_name": "Python 3",
   "language": "python",
   "name": "python3"
  },
  "language_info": {
   "codemirror_mode": {
    "name": "ipython",
    "version": 3
   },
   "file_extension": ".py",
   "mimetype": "text/x-python",
   "name": "python",
   "nbconvert_exporter": "python",
   "pygments_lexer": "ipython3",
   "version": "3.7.4"
  }
 },
 "nbformat": 4,
 "nbformat_minor": 2
}
