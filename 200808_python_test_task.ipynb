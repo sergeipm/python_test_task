{
 "cells": [
  {
   "cell_type": "code",
   "execution_count": 1,
   "metadata": {},
   "outputs": [],
   "source": [
    "# импорт библиотек\n",
    "from scipy import stats as st\n",
    "import scipy.stats as stats\n",
    "import pandas as pd\n",
    "import numpy as np\n",
    "import math \n",
    "import matplotlib.pyplot as plt\n",
    "import seaborn as sns\n",
    "import re\n",
    "pd.options.display.float_format = '{:,.1f}'.format"
   ]
  },
  {
   "cell_type": "code",
   "execution_count": 2,
   "metadata": {},
   "outputs": [],
   "source": [
    "# импорт таблицы с продажами\n",
    "sales = pd.read_excel('C:/Users/Sergei/2020_portfolio_projects/sales_ToShare.xlsx', sheet_name = 'Продажи')"
   ]
  },
  {
   "cell_type": "code",
   "execution_count": 3,
   "metadata": {},
   "outputs": [],
   "source": [
    "# импорт таблицы с остатками\n",
    "remains = pd.read_excel('C:/Users/Sergei/2020_portfolio_projects/remains_ToShare.xlsx')"
   ]
  },
  {
   "cell_type": "code",
   "execution_count": 4,
   "metadata": {},
   "outputs": [
    {
     "data": {
      "text/html": [
       "<div>\n",
       "<style scoped>\n",
       "    .dataframe tbody tr th:only-of-type {\n",
       "        vertical-align: middle;\n",
       "    }\n",
       "\n",
       "    .dataframe tbody tr th {\n",
       "        vertical-align: top;\n",
       "    }\n",
       "\n",
       "    .dataframe thead th {\n",
       "        text-align: right;\n",
       "    }\n",
       "</style>\n",
       "<table border=\"1\" class=\"dataframe\">\n",
       "  <thead>\n",
       "    <tr style=\"text-align: right;\">\n",
       "      <th></th>\n",
       "      <th>Артикул старый</th>\n",
       "      <th>Размер</th>\n",
       "      <th>Месяц</th>\n",
       "      <th>Продажи, шт.</th>\n",
       "    </tr>\n",
       "  </thead>\n",
       "  <tbody>\n",
       "    <tr>\n",
       "      <td>18726</td>\n",
       "      <td>22021115906351S0</td>\n",
       "      <td>XXL</td>\n",
       "      <td>6</td>\n",
       "      <td>72</td>\n",
       "    </tr>\n",
       "    <tr>\n",
       "      <td>38827</td>\n",
       "      <td>02025385903100/75</td>\n",
       "      <td>XL</td>\n",
       "      <td>7</td>\n",
       "      <td>106</td>\n",
       "    </tr>\n",
       "    <tr>\n",
       "      <td>41799</td>\n",
       "      <td>02013945982500/99</td>\n",
       "      <td>0</td>\n",
       "      <td>12</td>\n",
       "      <td>80</td>\n",
       "    </tr>\n",
       "  </tbody>\n",
       "</table>\n",
       "</div>"
      ],
      "text/plain": [
       "          Артикул старый Размер  Месяц  Продажи, шт.\n",
       "18726   22021115906351S0    XXL      6            72\n",
       "38827  02025385903100/75     XL      7           106\n",
       "41799  02013945982500/99      0     12            80"
      ]
     },
     "execution_count": 4,
     "metadata": {},
     "output_type": "execute_result"
    }
   ],
   "source": [
    "# вывод данных таблицы\n",
    "sales.sample(3)"
   ]
  },
  {
   "cell_type": "code",
   "execution_count": 5,
   "metadata": {},
   "outputs": [
    {
     "data": {
      "text/html": [
       "<div>\n",
       "<style scoped>\n",
       "    .dataframe tbody tr th:only-of-type {\n",
       "        vertical-align: middle;\n",
       "    }\n",
       "\n",
       "    .dataframe tbody tr th {\n",
       "        vertical-align: top;\n",
       "    }\n",
       "\n",
       "    .dataframe thead th {\n",
       "        text-align: right;\n",
       "    }\n",
       "</style>\n",
       "<table border=\"1\" class=\"dataframe\">\n",
       "  <thead>\n",
       "    <tr style=\"text-align: right;\">\n",
       "      <th></th>\n",
       "      <th>Артикул новый</th>\n",
       "      <th>Размер</th>\n",
       "      <th>Остаток на складе, шт.</th>\n",
       "      <th>Себестоимость, руб.</th>\n",
       "      <th>Цена продажи, руб.</th>\n",
       "    </tr>\n",
       "  </thead>\n",
       "  <tbody>\n",
       "    <tr>\n",
       "      <td>1826</td>\n",
       "      <td>010267323143 1900                             ...</td>\n",
       "      <td>34</td>\n",
       "      <td>372</td>\n",
       "      <td>1197</td>\n",
       "      <td>3052</td>\n",
       "    </tr>\n",
       "    <tr>\n",
       "      <td>5016</td>\n",
       "      <td>02025727Y052 50D0                             ...</td>\n",
       "      <td>S</td>\n",
       "      <td>807</td>\n",
       "      <td>1056</td>\n",
       "      <td>2735</td>\n",
       "    </tr>\n",
       "    <tr>\n",
       "      <td>2322</td>\n",
       "      <td>02021118Y083 19P0                             ...</td>\n",
       "      <td>M</td>\n",
       "      <td>321</td>\n",
       "      <td>1022</td>\n",
       "      <td>2044</td>\n",
       "    </tr>\n",
       "  </tbody>\n",
       "</table>\n",
       "</div>"
      ],
      "text/plain": [
       "                                          Артикул новый Размер  \\\n",
       "1826  010267323143 1900                             ...     34   \n",
       "5016  02025727Y052 50D0                             ...      S   \n",
       "2322  02021118Y083 19P0                             ...      M   \n",
       "\n",
       "      Остаток на складе, шт.  Себестоимость, руб.  Цена продажи, руб.  \n",
       "1826                     372                 1197                3052  \n",
       "5016                     807                 1056                2735  \n",
       "2322                     321                 1022                2044  "
      ]
     },
     "execution_count": 5,
     "metadata": {},
     "output_type": "execute_result"
    }
   ],
   "source": [
    "# вывод данных таблицы, удаление лишних символов в наименовании размера\n",
    "remains['Размер'] = remains['Размер'].str.strip()\n",
    "remains.sample(3)"
   ]
  },
  {
   "cell_type": "code",
   "execution_count": 6,
   "metadata": {},
   "outputs": [],
   "source": [
    "# обработка старых индексов согласно описанию для таблицы продаж\n",
    "def fix_index(row):\n",
    "    old_code = row['Артикул старый']\n",
    "    split_code =  old_code.split('/')\n",
    "    if len(split_code[0]) == 12:\n",
    "        new_code = (split_code[0] + split_code[1])\n",
    "        return new_code\n",
    "    if len(split_code[0]) == 14:\n",
    "        new_code = (''.join(list(split_code[0])[0:12]) + split_code[1] + ''.join(list(split_code[0])[12:14]))\n",
    "        return new_code\n",
    "    if len(split_code[0]) == 16:\n",
    "        new_code = split_code[0]\n",
    "        return new_code    \n",
    "    else:\n",
    "        return old_code"
   ]
  },
  {
   "cell_type": "code",
   "execution_count": 7,
   "metadata": {},
   "outputs": [],
   "source": [
    "# применение функции для таблицы продаж\n",
    "sales['new_code'] = sales.apply(fix_index, axis = 1) "
   ]
  },
  {
   "cell_type": "code",
   "execution_count": 8,
   "metadata": {},
   "outputs": [
    {
     "data": {
      "text/html": [
       "<div>\n",
       "<style scoped>\n",
       "    .dataframe tbody tr th:only-of-type {\n",
       "        vertical-align: middle;\n",
       "    }\n",
       "\n",
       "    .dataframe tbody tr th {\n",
       "        vertical-align: top;\n",
       "    }\n",
       "\n",
       "    .dataframe thead th {\n",
       "        text-align: right;\n",
       "    }\n",
       "</style>\n",
       "<table border=\"1\" class=\"dataframe\">\n",
       "  <thead>\n",
       "    <tr style=\"text-align: right;\">\n",
       "      <th></th>\n",
       "      <th>Артикул старый</th>\n",
       "      <th>Размер</th>\n",
       "      <th>Месяц</th>\n",
       "      <th>Продажи, шт.</th>\n",
       "      <th>new_code</th>\n",
       "    </tr>\n",
       "  </thead>\n",
       "  <tbody>\n",
       "    <tr>\n",
       "      <td>41896</td>\n",
       "      <td>0202373572722100</td>\n",
       "      <td>L</td>\n",
       "      <td>12</td>\n",
       "      <td>118</td>\n",
       "      <td>0202373572722100</td>\n",
       "    </tr>\n",
       "    <tr>\n",
       "      <td>51495</td>\n",
       "      <td>02023373Y01131S0</td>\n",
       "      <td>XXL</td>\n",
       "      <td>8</td>\n",
       "      <td>114</td>\n",
       "      <td>02023373Y01131S0</td>\n",
       "    </tr>\n",
       "    <tr>\n",
       "      <td>22839</td>\n",
       "      <td>22021117Y07351S0</td>\n",
       "      <td>S</td>\n",
       "      <td>10</td>\n",
       "      <td>65</td>\n",
       "      <td>22021117Y07351S0</td>\n",
       "    </tr>\n",
       "    <tr>\n",
       "      <td>41623</td>\n",
       "      <td>02023383Y01359N0</td>\n",
       "      <td>M</td>\n",
       "      <td>12</td>\n",
       "      <td>92</td>\n",
       "      <td>02023383Y01359N0</td>\n",
       "    </tr>\n",
       "    <tr>\n",
       "      <td>5934</td>\n",
       "      <td>210267S2309100/59</td>\n",
       "      <td>M</td>\n",
       "      <td>12</td>\n",
       "      <td>98</td>\n",
       "      <td>210267S230915900</td>\n",
       "    </tr>\n",
       "  </tbody>\n",
       "</table>\n",
       "</div>"
      ],
      "text/plain": [
       "          Артикул старый Размер  Месяц  Продажи, шт.          new_code\n",
       "41896   0202373572722100      L     12           118  0202373572722100\n",
       "51495   02023373Y01131S0    XXL      8           114  02023373Y01131S0\n",
       "22839   22021117Y07351S0      S     10            65  22021117Y07351S0\n",
       "41623   02023383Y01359N0      M     12            92  02023383Y01359N0\n",
       "5934   210267S2309100/59      M     12            98  210267S230915900"
      ]
     },
     "execution_count": 8,
     "metadata": {},
     "output_type": "execute_result"
    }
   ],
   "source": [
    "sales.sample(5)"
   ]
  },
  {
   "cell_type": "code",
   "execution_count": 9,
   "metadata": {},
   "outputs": [],
   "source": [
    "# проверка корректности замены по длине нового артикула\n",
    "# def len_code(row):\n",
    "#     lentgh = len(row['new_code'])\n",
    "#     return lentgh\n",
    "\n",
    "# sales['code_size'] = sales.apply(len_code, axis = 1)"
   ]
  },
  {
   "cell_type": "code",
   "execution_count": 10,
   "metadata": {},
   "outputs": [],
   "source": [
    "# корректировка новых артикулов для таблицы с остатками\n",
    "def fix_index_remains(row):\n",
    "    new_code = ''.join(row['Артикул новый'].split(' '))\n",
    "    return new_code"
   ]
  },
  {
   "cell_type": "code",
   "execution_count": 11,
   "metadata": {},
   "outputs": [],
   "source": [
    "# применение функции для обработки новых артикулов в таблице с остатками\n",
    "remains['new_code'] = remains.apply(fix_index_remains, axis = 1)"
   ]
  },
  {
   "cell_type": "code",
   "execution_count": 12,
   "metadata": {},
   "outputs": [],
   "source": [
    "# sales['Размер'].value_counts()"
   ]
  },
  {
   "cell_type": "code",
   "execution_count": 13,
   "metadata": {},
   "outputs": [],
   "source": [
    "# remains['Размер'].value_counts()"
   ]
  },
  {
   "cell_type": "code",
   "execution_count": 14,
   "metadata": {},
   "outputs": [],
   "source": [
    "# объединение таблиц продаж и остатков\n",
    "df = sales[[ 'Месяц', 'Продажи, шт.', 'new_code','Размер']].merge(remains[['Себестоимость, руб.', \n",
    "                                                                  'Цена продажи, руб.', 'new_code','Остаток на складе, шт.','Размер']],\n",
    "                                                    on=['new_code','Размер'], how = 'outer')"
   ]
  },
  {
   "cell_type": "code",
   "execution_count": 15,
   "metadata": {},
   "outputs": [],
   "source": [
    "# задаём новые названия столбцов для удобства\n",
    "df.columns = ['месяц', 'продажи', 'new_code', 'Размер','себестоимость',\n",
    "       'цена','остаток']"
   ]
  },
  {
   "cell_type": "code",
   "execution_count": 16,
   "metadata": {},
   "outputs": [
    {
     "data": {
      "text/html": [
       "<div>\n",
       "<style scoped>\n",
       "    .dataframe tbody tr th:only-of-type {\n",
       "        vertical-align: middle;\n",
       "    }\n",
       "\n",
       "    .dataframe tbody tr th {\n",
       "        vertical-align: top;\n",
       "    }\n",
       "\n",
       "    .dataframe thead th {\n",
       "        text-align: right;\n",
       "    }\n",
       "</style>\n",
       "<table border=\"1\" class=\"dataframe\">\n",
       "  <thead>\n",
       "    <tr style=\"text-align: right;\">\n",
       "      <th></th>\n",
       "      <th>месяц</th>\n",
       "      <th>продажи</th>\n",
       "      <th>себестоимость</th>\n",
       "      <th>цена</th>\n",
       "      <th>остаток</th>\n",
       "    </tr>\n",
       "  </thead>\n",
       "  <tbody>\n",
       "    <tr>\n",
       "      <td>count</td>\n",
       "      <td>60,074.0</td>\n",
       "      <td>60,074.0</td>\n",
       "      <td>58,785.0</td>\n",
       "      <td>58,785.0</td>\n",
       "      <td>58,785.0</td>\n",
       "    </tr>\n",
       "    <tr>\n",
       "      <td>mean</td>\n",
       "      <td>9.0</td>\n",
       "      <td>84.1</td>\n",
       "      <td>906.8</td>\n",
       "      <td>2,268.6</td>\n",
       "      <td>487.4</td>\n",
       "    </tr>\n",
       "    <tr>\n",
       "      <td>std</td>\n",
       "      <td>2.0</td>\n",
       "      <td>19.9</td>\n",
       "      <td>345.9</td>\n",
       "      <td>910.2</td>\n",
       "      <td>605.7</td>\n",
       "    </tr>\n",
       "    <tr>\n",
       "      <td>min</td>\n",
       "      <td>6.0</td>\n",
       "      <td>2.0</td>\n",
       "      <td>300.0</td>\n",
       "      <td>602.0</td>\n",
       "      <td>1.0</td>\n",
       "    </tr>\n",
       "    <tr>\n",
       "      <td>25%</td>\n",
       "      <td>7.0</td>\n",
       "      <td>71.0</td>\n",
       "      <td>609.0</td>\n",
       "      <td>1,495.0</td>\n",
       "      <td>122.0</td>\n",
       "    </tr>\n",
       "    <tr>\n",
       "      <td>50%</td>\n",
       "      <td>9.0</td>\n",
       "      <td>84.0</td>\n",
       "      <td>913.0</td>\n",
       "      <td>2,251.0</td>\n",
       "      <td>294.0</td>\n",
       "    </tr>\n",
       "    <tr>\n",
       "      <td>75%</td>\n",
       "      <td>11.0</td>\n",
       "      <td>98.0</td>\n",
       "      <td>1,205.0</td>\n",
       "      <td>2,964.0</td>\n",
       "      <td>625.0</td>\n",
       "    </tr>\n",
       "    <tr>\n",
       "      <td>max</td>\n",
       "      <td>12.0</td>\n",
       "      <td>174.0</td>\n",
       "      <td>1,500.0</td>\n",
       "      <td>4,476.0</td>\n",
       "      <td>9,610.0</td>\n",
       "    </tr>\n",
       "  </tbody>\n",
       "</table>\n",
       "</div>"
      ],
      "text/plain": [
       "         месяц  продажи  себестоимость     цена  остаток\n",
       "count 60,074.0 60,074.0       58,785.0 58,785.0 58,785.0\n",
       "mean       9.0     84.1          906.8  2,268.6    487.4\n",
       "std        2.0     19.9          345.9    910.2    605.7\n",
       "min        6.0      2.0          300.0    602.0      1.0\n",
       "25%        7.0     71.0          609.0  1,495.0    122.0\n",
       "50%        9.0     84.0          913.0  2,251.0    294.0\n",
       "75%       11.0     98.0        1,205.0  2,964.0    625.0\n",
       "max       12.0    174.0        1,500.0  4,476.0  9,610.0"
      ]
     },
     "execution_count": 16,
     "metadata": {},
     "output_type": "execute_result"
    }
   ],
   "source": [
    "# предварительная оценка объединённой таблицы\n",
    "df.describe()"
   ]
  },
  {
   "cell_type": "code",
   "execution_count": 17,
   "metadata": {},
   "outputs": [],
   "source": [
    "# заполнение пропусков согласно условию\n",
    "df['себестоимость'] = df['себестоимость'].fillna(200)\n",
    "df['цена'] = df['цена'].fillna(1000)\n",
    "df['продажи'] = df['продажи'].fillna(0)\n",
    "df['месяц'] = df['месяц'].fillna(0)\n",
    "df['остаток'] = df['остаток'].fillna(0)"
   ]
  },
  {
   "cell_type": "code",
   "execution_count": 18,
   "metadata": {},
   "outputs": [],
   "source": [
    "# калькуляция суммы продаж и прибыли\n",
    "df['месяц'] = df['месяц'].astype(int)\n",
    "df['сумма_продаж'] = df['цена'] * df['продажи']\n",
    "df['сумма_прибыли'] = df['продажи'] * (df['цена'] - df['себестоимость'])"
   ]
  },
  {
   "cell_type": "code",
   "execution_count": 19,
   "metadata": {},
   "outputs": [
    {
     "data": {
      "text/html": [
       "<div>\n",
       "<style scoped>\n",
       "    .dataframe tbody tr th:only-of-type {\n",
       "        vertical-align: middle;\n",
       "    }\n",
       "\n",
       "    .dataframe tbody tr th {\n",
       "        vertical-align: top;\n",
       "    }\n",
       "\n",
       "    .dataframe thead th {\n",
       "        text-align: right;\n",
       "    }\n",
       "</style>\n",
       "<table border=\"1\" class=\"dataframe\">\n",
       "  <thead>\n",
       "    <tr style=\"text-align: right;\">\n",
       "      <th></th>\n",
       "      <th>месяц</th>\n",
       "      <th>сумма_прибыли</th>\n",
       "      <th>сумма_продаж</th>\n",
       "    </tr>\n",
       "  </thead>\n",
       "  <tbody>\n",
       "    <tr>\n",
       "      <td>6</td>\n",
       "      <td>11</td>\n",
       "      <td>962,285,659.0</td>\n",
       "      <td>1,588,544,129.0</td>\n",
       "    </tr>\n",
       "    <tr>\n",
       "      <td>3</td>\n",
       "      <td>8</td>\n",
       "      <td>961,802,767.0</td>\n",
       "      <td>1,588,125,027.0</td>\n",
       "    </tr>\n",
       "    <tr>\n",
       "      <td>5</td>\n",
       "      <td>10</td>\n",
       "      <td>960,007,250.0</td>\n",
       "      <td>1,585,232,278.0</td>\n",
       "    </tr>\n",
       "    <tr>\n",
       "      <td>2</td>\n",
       "      <td>7</td>\n",
       "      <td>958,288,409.0</td>\n",
       "      <td>1,582,298,364.0</td>\n",
       "    </tr>\n",
       "    <tr>\n",
       "      <td>4</td>\n",
       "      <td>9</td>\n",
       "      <td>957,677,270.0</td>\n",
       "      <td>1,581,127,103.0</td>\n",
       "    </tr>\n",
       "    <tr>\n",
       "      <td>7</td>\n",
       "      <td>12</td>\n",
       "      <td>957,345,962.0</td>\n",
       "      <td>1,580,555,028.0</td>\n",
       "    </tr>\n",
       "    <tr>\n",
       "      <td>1</td>\n",
       "      <td>6</td>\n",
       "      <td>957,347,025.0</td>\n",
       "      <td>1,580,366,835.0</td>\n",
       "    </tr>\n",
       "    <tr>\n",
       "      <td>0</td>\n",
       "      <td>0</td>\n",
       "      <td>0.0</td>\n",
       "      <td>0.0</td>\n",
       "    </tr>\n",
       "  </tbody>\n",
       "</table>\n",
       "</div>"
      ],
      "text/plain": [
       "   месяц  сумма_прибыли    сумма_продаж\n",
       "6     11  962,285,659.0 1,588,544,129.0\n",
       "3      8  961,802,767.0 1,588,125,027.0\n",
       "5     10  960,007,250.0 1,585,232,278.0\n",
       "2      7  958,288,409.0 1,582,298,364.0\n",
       "4      9  957,677,270.0 1,581,127,103.0\n",
       "7     12  957,345,962.0 1,580,555,028.0\n",
       "1      6  957,347,025.0 1,580,366,835.0\n",
       "0      0            0.0             0.0"
      ]
     },
     "execution_count": 19,
     "metadata": {},
     "output_type": "execute_result"
    }
   ],
   "source": [
    "# вывод значений прибыли о продаж\n",
    "total_sales = df.groupby('месяц').agg({'сумма_прибыли':'sum',\n",
    "         'сумма_продаж':'sum',}).reset_index().sort_values(by = 'сумма_продаж', ascending = False).dropna()\n",
    "total_sales"
   ]
  },
  {
   "cell_type": "code",
   "execution_count": 51,
   "metadata": {},
   "outputs": [
    {
     "data": {
      "image/png": "[encoded data removed]",
      "text/plain": [
       "<Figure size 1080x216 with 1 Axes>"
      ]
     },
     "metadata": {
      "needs_background": "light"
     },
     "output_type": "display_data"
    },
    {
     "data": {
      "image/png": "[encoded data removed]",
      "text/plain": [
       "<Figure size 1080x216 with 1 Axes>"
      ]
     },
     "metadata": {
      "needs_background": "light"
     },
     "output_type": "display_data"
    }
   ],
   "source": [
    "fig = plt.figure(figsize=(15,3))\n",
    "ax = sns.barplot(x=\"месяц\", y=\"сумма_продаж\", data=total_sales)\n",
    "plt.title('Продажи по месяцам')\n",
    "plt.grid()\n",
    "plt.ylim(1575000000,1590000000)\n",
    "plt.show()\n",
    "fig = plt.figure(figsize=(15,3))\n",
    "ax = sns.barplot(x=\"месяц\", y=\"сумма_прибыли\", data=total_sales)\n",
    "plt.title('Прибыль по месяцам')\n",
    "plt.grid()\n",
    "plt.ylim(950000000,965000000)\n",
    "plt.show()"
   ]
  },
  {
   "cell_type": "code",
   "execution_count": 21,
   "metadata": {},
   "outputs": [
    {
     "name": "stdout",
     "output_type": "stream",
     "text": [
      "сумма продаж в рублях за июль :  1582298364.0 рублей\n"
     ]
    }
   ],
   "source": [
    "# сумма продаж в рублях за июль\n",
    "print('сумма продаж в рублях за июль : ',df[df['месяц'] == 7]['сумма_продаж'].sum(),'рублей')"
   ]
  },
  {
   "cell_type": "code",
   "execution_count": 22,
   "metadata": {},
   "outputs": [
    {
     "name": "stdout",
     "output_type": "stream",
     "text": [
      "сумма прибыли в рублях за октябрь :  960007250.0 рублей\n"
     ]
    }
   ],
   "source": [
    "# сумма прибыли в рублях за октябрь\n",
    "print('сумма прибыли в рублях за октябрь : ',df[df['месяц'] == 10]['сумма_прибыли'].sum(),'рублей')"
   ]
  },
  {
   "cell_type": "code",
   "execution_count": 23,
   "metadata": {},
   "outputs": [
    {
     "name": "stdout",
     "output_type": "stream",
     "text": [
      "артикул (новый), который в рейтинге продаж (в рублях) был на 5 месте в августе\n"
     ]
    },
    {
     "data": {
      "text/html": [
       "<div>\n",
       "<style scoped>\n",
       "    .dataframe tbody tr th:only-of-type {\n",
       "        vertical-align: middle;\n",
       "    }\n",
       "\n",
       "    .dataframe tbody tr th {\n",
       "        vertical-align: top;\n",
       "    }\n",
       "\n",
       "    .dataframe thead th {\n",
       "        text-align: right;\n",
       "    }\n",
       "</style>\n",
       "<table border=\"1\" class=\"dataframe\">\n",
       "  <thead>\n",
       "    <tr style=\"text-align: right;\">\n",
       "      <th></th>\n",
       "      <th>index</th>\n",
       "      <th>new_code</th>\n",
       "      <th>сумма_продаж</th>\n",
       "    </tr>\n",
       "  </thead>\n",
       "  <tbody>\n",
       "    <tr>\n",
       "      <td>4</td>\n",
       "      <td>1860</td>\n",
       "      <td>42025327F5637500</td>\n",
       "      <td>1,929,854.0</td>\n",
       "    </tr>\n",
       "  </tbody>\n",
       "</table>\n",
       "</div>"
      ],
      "text/plain": [
       "   index          new_code  сумма_продаж\n",
       "4   1860  42025327F5637500   1,929,854.0"
      ]
     },
     "execution_count": 23,
     "metadata": {},
     "output_type": "execute_result"
    }
   ],
   "source": [
    "# находим пятый по популярности артикул в августе\n",
    "print('артикул (новый), который в рейтинге продаж (в рублях) был на 5 месте в августе')\n",
    "df[df['месяц'] == 8].groupby('new_code')['сумма_продаж'].sum().reset_index().sort_values(\n",
    "    by = 'сумма_продаж',ascending = False).head(5).reset_index().loc[4:]"
   ]
  },
  {
   "cell_type": "code",
   "execution_count": 24,
   "metadata": {},
   "outputs": [
    {
     "name": "stdout",
     "output_type": "stream",
     "text": [
      "остаток на складе ТОП-10 артикулов по продажам (в рублях) в августе\n"
     ]
    },
    {
     "data": {
      "text/html": [
       "<div>\n",
       "<style scoped>\n",
       "    .dataframe tbody tr th:only-of-type {\n",
       "        vertical-align: middle;\n",
       "    }\n",
       "\n",
       "    .dataframe tbody tr th {\n",
       "        vertical-align: top;\n",
       "    }\n",
       "\n",
       "    .dataframe thead th {\n",
       "        text-align: right;\n",
       "    }\n",
       "</style>\n",
       "<table border=\"1\" class=\"dataframe\">\n",
       "  <thead>\n",
       "    <tr style=\"text-align: right;\">\n",
       "      <th></th>\n",
       "      <th>Остаток на складе, шт.</th>\n",
       "    </tr>\n",
       "    <tr>\n",
       "      <th>new_code</th>\n",
       "      <th></th>\n",
       "    </tr>\n",
       "  </thead>\n",
       "  <tbody>\n",
       "    <tr>\n",
       "      <td>02021714Z10350D0</td>\n",
       "      <td>5152</td>\n",
       "    </tr>\n",
       "    <tr>\n",
       "      <td>02021120207201P0</td>\n",
       "      <td>4548</td>\n",
       "    </tr>\n",
       "    <tr>\n",
       "      <td>22024721S03250D0</td>\n",
       "      <td>4111</td>\n",
       "    </tr>\n",
       "    <tr>\n",
       "      <td>02024717Y04251D0</td>\n",
       "      <td>3376</td>\n",
       "    </tr>\n",
       "    <tr>\n",
       "      <td>0202632100136100</td>\n",
       "      <td>2715</td>\n",
       "    </tr>\n",
       "    <tr>\n",
       "      <td>42025822305311S0</td>\n",
       "      <td>2196</td>\n",
       "    </tr>\n",
       "    <tr>\n",
       "      <td>22023714Z11355D0</td>\n",
       "      <td>1989</td>\n",
       "    </tr>\n",
       "    <tr>\n",
       "      <td>32024712Y02351D0</td>\n",
       "      <td>1364</td>\n",
       "    </tr>\n",
       "    <tr>\n",
       "      <td>42025327F5637500</td>\n",
       "      <td>1253</td>\n",
       "    </tr>\n",
       "    <tr>\n",
       "      <td>02023714Z01155D0</td>\n",
       "      <td>751</td>\n",
       "    </tr>\n",
       "  </tbody>\n",
       "</table>\n",
       "</div>"
      ],
      "text/plain": [
       "                  Остаток на складе, шт.\n",
       "new_code                                \n",
       "02021714Z10350D0                    5152\n",
       "02021120207201P0                    4548\n",
       "22024721S03250D0                    4111\n",
       "02024717Y04251D0                    3376\n",
       "0202632100136100                    2715\n",
       "42025822305311S0                    2196\n",
       "22023714Z11355D0                    1989\n",
       "32024712Y02351D0                    1364\n",
       "42025327F5637500                    1253\n",
       "02023714Z01155D0                     751"
      ]
     },
     "execution_count": 24,
     "metadata": {},
     "output_type": "execute_result"
    }
   ],
   "source": [
    "# находим 10 самых популярных артикулов за август\n",
    "top_10_august = df[df['месяц'] == 8].groupby('new_code')['сумма_продаж'].sum().reset_index(\n",
    ").sort_values(by = 'сумма_продаж',ascending = False).head(10).reset_index()['new_code']\n",
    "print('остаток на складе ТОП-10 артикулов по продажам (в рублях) в августе')\n",
    "remains[remains['new_code'].isin(top_10_august)].groupby('new_code').agg(\n",
    "    {'Остаток на складе, шт.':'sum'}).sort_values(by = 'Остаток на складе, шт.',\n",
    "                   ascending = False)"
   ]
  },
  {
   "cell_type": "code",
   "execution_count": 25,
   "metadata": {},
   "outputs": [
    {
     "data": {
      "image/png": "[encoded data removed]",
      "text/plain": [
       "<Figure size 1080x216 with 1 Axes>"
      ]
     },
     "metadata": {
      "needs_background": "light"
     },
     "output_type": "display_data"
    }
   ],
   "source": [
    "# визуализация топ-10 артикулов августа\n",
    "fig = plt.figure(figsize=(15,3))\n",
    "ax = sns.barplot(x=\"new_code\", y=\"Остаток на складе, шт.\",\n",
    "                 data=remains[remains['new_code'].isin(top_10_august\n",
    "                )].groupby('new_code').agg({'Остаток на складе, шт.':'sum'}).sort_values(by = 'Остаток на складе, шт.',\n",
    "                ascending = False).reset_index())\n",
    "plt.title('Топ остатков за август')\n",
    "plt.grid()\n",
    "plt.xticks(rotation = 45)\n",
    "plt.show()"
   ]
  },
  {
   "cell_type": "code",
   "execution_count": 26,
   "metadata": {},
   "outputs": [
    {
     "data": {
      "image/png": "[encoded data removed]",
      "text/plain": [
       "<Figure size 432x288 with 1 Axes>"
      ]
     },
     "metadata": {
      "needs_background": "light"
     },
     "output_type": "display_data"
    }
   ],
   "source": [
    "# проверка нормальности распределения графиком квантиль квантиль плот\n",
    "import numpy as np \n",
    "import pylab \n",
    "import scipy.stats as stats\n",
    "\n",
    "measurements = sales['Продажи, шт.']\n",
    "stats.probplot(measurements, dist=\"norm\", plot=pylab)\n",
    "pylab.show()"
   ]
  },
  {
   "cell_type": "code",
   "execution_count": 27,
   "metadata": {},
   "outputs": [
    {
     "data": {
      "image/png": "[encoded data removed]",
      "text/plain": [
       "<Figure size 432x288 with 1 Axes>"
      ]
     },
     "metadata": {
      "needs_background": "light"
     },
     "output_type": "display_data"
    }
   ],
   "source": [
    "# распределение значений продаж\n",
    "ax = sns.distplot(sales['Продажи, шт.'])"
   ]
  },
  {
   "cell_type": "markdown",
   "metadata": {},
   "source": [
    "Распределение продаж можно назвать нормальным и использовать статистические критерии для оценки."
   ]
  },
  {
   "cell_type": "code",
   "execution_count": 28,
   "metadata": {},
   "outputs": [
    {
     "name": "stdout",
     "output_type": "stream",
     "text": [
      "Стандартное отклонение :19.9\n",
      "Дисперсия: 397.5\n"
     ]
    }
   ],
   "source": [
    "# не совсем понял, что такое квадратное отклонение, стандартное отклонение и дисперсию нашёл\n",
    "print('Стандартное отклонение :{:.1f}'.format(np.std(sales['Продажи, шт.'])))\n",
    "print('Дисперсия: {:.1f}'.format(np.var(sales['Продажи, шт.'])))"
   ]
  },
  {
   "cell_type": "code",
   "execution_count": 29,
   "metadata": {},
   "outputs": [
    {
     "data": {
      "text/html": [
       "<div>\n",
       "<style scoped>\n",
       "    .dataframe tbody tr th:only-of-type {\n",
       "        vertical-align: middle;\n",
       "    }\n",
       "\n",
       "    .dataframe tbody tr th {\n",
       "        vertical-align: top;\n",
       "    }\n",
       "\n",
       "    .dataframe thead th {\n",
       "        text-align: right;\n",
       "    }\n",
       "</style>\n",
       "<table border=\"1\" class=\"dataframe\">\n",
       "  <thead>\n",
       "    <tr style=\"text-align: right;\">\n",
       "      <th></th>\n",
       "      <th>Месяц</th>\n",
       "      <th>Продажи, шт.</th>\n",
       "    </tr>\n",
       "  </thead>\n",
       "  <tbody>\n",
       "    <tr>\n",
       "      <td>count</td>\n",
       "      <td>60,074.0</td>\n",
       "      <td>60,074.0</td>\n",
       "    </tr>\n",
       "    <tr>\n",
       "      <td>mean</td>\n",
       "      <td>9.0</td>\n",
       "      <td>84.1</td>\n",
       "    </tr>\n",
       "    <tr>\n",
       "      <td>std</td>\n",
       "      <td>2.0</td>\n",
       "      <td>19.9</td>\n",
       "    </tr>\n",
       "    <tr>\n",
       "      <td>min</td>\n",
       "      <td>6.0</td>\n",
       "      <td>2.0</td>\n",
       "    </tr>\n",
       "    <tr>\n",
       "      <td>25%</td>\n",
       "      <td>7.0</td>\n",
       "      <td>71.0</td>\n",
       "    </tr>\n",
       "    <tr>\n",
       "      <td>50%</td>\n",
       "      <td>9.0</td>\n",
       "      <td>84.0</td>\n",
       "    </tr>\n",
       "    <tr>\n",
       "      <td>75%</td>\n",
       "      <td>11.0</td>\n",
       "      <td>98.0</td>\n",
       "    </tr>\n",
       "    <tr>\n",
       "      <td>max</td>\n",
       "      <td>12.0</td>\n",
       "      <td>174.0</td>\n",
       "    </tr>\n",
       "  </tbody>\n",
       "</table>\n",
       "</div>"
      ],
      "text/plain": [
       "         Месяц  Продажи, шт.\n",
       "count 60,074.0      60,074.0\n",
       "mean       9.0          84.1\n",
       "std        2.0          19.9\n",
       "min        6.0           2.0\n",
       "25%        7.0          71.0\n",
       "50%        9.0          84.0\n",
       "75%       11.0          98.0\n",
       "max       12.0         174.0"
      ]
     },
     "execution_count": 29,
     "metadata": {},
     "output_type": "execute_result"
    }
   ],
   "source": [
    "# самый простой способ оценить основные параметры распределения выборки\n",
    "sales.describe()"
   ]
  },
  {
   "cell_type": "code",
   "execution_count": 30,
   "metadata": {},
   "outputs": [
    {
     "name": "stdout",
     "output_type": "stream",
     "text": [
      "95 процентов значений продаж лежат в диапазоне 45 - 123 шт.\n"
     ]
    }
   ],
   "source": [
    "# выводим значения продаж, входящие в диапазон две сигмы\n",
    "print('95 процентов значений продаж лежат в диапазоне {:.0f} - {:.0f} шт.'.format(sales['Продажи, шт.'].quantile(0.025),\n",
    "                sales['Продажи, шт.'].quantile(0.975)))"
   ]
  },
  {
   "cell_type": "code",
   "execution_count": 31,
   "metadata": {},
   "outputs": [],
   "source": [
    "# группируем данные продаж и остатков по размерам\n",
    "# для буквенных обозначений строим отдельные визуализации\n",
    "sales_sizes_letter = sales[sales['Размер'].isin(['M',\n",
    "    'L', 'S', 'XL', 'XS', 'XXL', 'XXXL', 'XXS'])].groupby('Размер').agg({'Продажи, шт.':'sum'}).reset_index()\n",
    "sales_sizes = sales.groupby('Размер').agg({'Продажи, шт.':'sum'}).reset_index()\n",
    "remains_sizes_letter = remains[remains['Размер'].isin(['M',\n",
    "      'L', 'S', 'XL', 'XS', 'XXL', 'XXXL', 'XXS'])].groupby('Размер').agg({'Остаток на складе, шт.':'sum'}).reset_index()\n",
    "remains_sizes = remains.groupby('Размер').agg({'Остаток на складе, шт.':'sum'}).reset_index()"
   ]
  },
  {
   "cell_type": "code",
   "execution_count": 32,
   "metadata": {},
   "outputs": [
    {
     "data": {
      "image/png": "[encoded data removed]",
      "text/plain": [
       "<Figure size 1080x216 with 1 Axes>"
      ]
     },
     "metadata": {
      "needs_background": "light"
     },
     "output_type": "display_data"
    },
    {
     "data": {
      "image/png": "[encoded data removed]",
      "text/plain": [
       "<Figure size 1080x216 with 1 Axes>"
      ]
     },
     "metadata": {
      "needs_background": "light"
     },
     "output_type": "display_data"
    }
   ],
   "source": [
    "fig = plt.figure(figsize=(15,3))\n",
    "ax = sns.barplot(x=\"Размер\", y=\"Продажи, шт.\", data=sales_sizes)\n",
    "plt.title('Продажи по размерам')\n",
    "plt.grid()\n",
    "plt.show()\n",
    "fig = plt.figure(figsize=(15,3))\n",
    "ax = sns.barplot(x=\"Размер\", y=\"Остаток на складе, шт.\", data=remains_sizes)\n",
    "plt.title('Остатки по размерам')\n",
    "plt.grid()\n",
    "plt.show()"
   ]
  },
  {
   "cell_type": "code",
   "execution_count": 33,
   "metadata": {},
   "outputs": [
    {
     "data": {
      "image/png": "[encoded data removed]",
      "text/plain": [
       "<Figure size 1080x216 with 1 Axes>"
      ]
     },
     "metadata": {
      "needs_background": "light"
     },
     "output_type": "display_data"
    },
    {
     "data": {
      "image/png": "[encoded data removed]",
      "text/plain": [
       "<Figure size 1080x216 with 1 Axes>"
      ]
     },
     "metadata": {
      "needs_background": "light"
     },
     "output_type": "display_data"
    }
   ],
   "source": [
    "fig = plt.figure(figsize=(15,3))\n",
    "ax = sns.barplot(x=\"Размер\", y=\"Продажи, шт.\", data=sales_sizes_letter)\n",
    "plt.grid()\n",
    "plt.title('Продажи размеров буквенного наименования')\n",
    "plt.show()\n",
    "fig = plt.figure(figsize=(15,3))\n",
    "ax = sns.barplot(x=\"Размер\", y=\"Остаток на складе, шт.\", data=remains_sizes_letter)\n",
    "plt.title('Остатки размеров буквенного наименования')\n",
    "plt.grid()\n",
    "plt.show()"
   ]
  }
 ],
 "metadata": {
  "kernelspec": {
   "display_name": "Python 3",
   "language": "python",
   "name": "python3"
  },
  "language_info": {
   "codemirror_mode": {
    "name": "ipython",
    "version": 3
   },
   "file_extension": ".py",
   "mimetype": "text/x-python",
   "name": "python",
   "nbconvert_exporter": "python",
   "pygments_lexer": "ipython3",
   "version": "3.7.4"
  }
 },
 "nbformat": 4,
 "nbformat_minor": 2
}
