{
 "cells": [
  {
   "cell_type": "code",
   "execution_count": 1,
   "metadata": {},
   "outputs": [],
   "source": [
    "from scipy import stats as st\n",
    "import scipy.stats as stats\n",
    "import pandas as pd\n",
    "import numpy as np\n",
    "import math \n",
    "import matplotlib.pyplot as plt\n",
    "import seaborn as sns\n",
    "import re\n",
    "pd.options.display.float_format = '{:,.1f}'.format"
   ]
  },
  {
   "cell_type": "code",
   "execution_count": 2,
   "metadata": {},
   "outputs": [],
   "source": [
    "sales = pd.read_excel('C:/Users/Sergei/2020_portfolio_projects/sales_ToShare.xlsx', sheet_name = 'Продажи')"
   ]
  },
  {
   "cell_type": "code",
   "execution_count": 3,
   "metadata": {},
   "outputs": [],
   "source": [
    "remains = pd.read_excel('C:/Users/Sergei/2020_portfolio_projects/remains_ToShare.xlsx')"
   ]
  },
  {
   "cell_type": "code",
   "execution_count": 4,
   "metadata": {},
   "outputs": [
    {
     "data": {
      "text/html": [
       "<div>\n",
       "<style scoped>\n",
       "    .dataframe tbody tr th:only-of-type {\n",
       "        vertical-align: middle;\n",
       "    }\n",
       "\n",
       "    .dataframe tbody tr th {\n",
       "        vertical-align: top;\n",
       "    }\n",
       "\n",
       "    .dataframe thead th {\n",
       "        text-align: right;\n",
       "    }\n",
       "</style>\n",
       "<table border=\"1\" class=\"dataframe\">\n",
       "  <thead>\n",
       "    <tr style=\"text-align: right;\">\n",
       "      <th></th>\n",
       "      <th>Артикул старый</th>\n",
       "      <th>Размер</th>\n",
       "      <th>Месяц</th>\n",
       "      <th>Продажи, шт.</th>\n",
       "    </tr>\n",
       "  </thead>\n",
       "  <tbody>\n",
       "    <tr>\n",
       "      <td>0</td>\n",
       "      <td>02025727Y052D0/55</td>\n",
       "      <td>XS</td>\n",
       "      <td>9</td>\n",
       "      <td>88</td>\n",
       "    </tr>\n",
       "    <tr>\n",
       "      <td>1</td>\n",
       "      <td>02025727Y052D0/55</td>\n",
       "      <td>S</td>\n",
       "      <td>6</td>\n",
       "      <td>128</td>\n",
       "    </tr>\n",
       "    <tr>\n",
       "      <td>2</td>\n",
       "      <td>020245D5Z022/55D0</td>\n",
       "      <td>M</td>\n",
       "      <td>7</td>\n",
       "      <td>83</td>\n",
       "    </tr>\n",
       "  </tbody>\n",
       "</table>\n",
       "</div>"
      ],
      "text/plain": [
       "      Артикул старый Размер  Месяц  Продажи, шт.\n",
       "0  02025727Y052D0/55     XS      9            88\n",
       "1  02025727Y052D0/55      S      6           128\n",
       "2  020245D5Z022/55D0      M      7            83"
      ]
     },
     "execution_count": 4,
     "metadata": {},
     "output_type": "execute_result"
    }
   ],
   "source": [
    "sales.head(3)"
   ]
  },
  {
   "cell_type": "code",
   "execution_count": 5,
   "metadata": {},
   "outputs": [
    {
     "data": {
      "text/html": [
       "<div>\n",
       "<style scoped>\n",
       "    .dataframe tbody tr th:only-of-type {\n",
       "        vertical-align: middle;\n",
       "    }\n",
       "\n",
       "    .dataframe tbody tr th {\n",
       "        vertical-align: top;\n",
       "    }\n",
       "\n",
       "    .dataframe thead th {\n",
       "        text-align: right;\n",
       "    }\n",
       "</style>\n",
       "<table border=\"1\" class=\"dataframe\">\n",
       "  <thead>\n",
       "    <tr style=\"text-align: right;\">\n",
       "      <th></th>\n",
       "      <th>Артикул новый</th>\n",
       "      <th>Размер</th>\n",
       "      <th>Остаток на складе, шт.</th>\n",
       "      <th>Себестоимость, руб.</th>\n",
       "      <th>Цена продажи, руб.</th>\n",
       "    </tr>\n",
       "  </thead>\n",
       "  <tbody>\n",
       "    <tr>\n",
       "      <td>0</td>\n",
       "      <td>010112159012 0100                             ...</td>\n",
       "      <td>M</td>\n",
       "      <td>118</td>\n",
       "      <td>1211</td>\n",
       "      <td>2846</td>\n",
       "    </tr>\n",
       "    <tr>\n",
       "      <td>1</td>\n",
       "      <td>010112159052 01P0                             ...</td>\n",
       "      <td>L</td>\n",
       "      <td>247</td>\n",
       "      <td>465</td>\n",
       "      <td>1311</td>\n",
       "    </tr>\n",
       "    <tr>\n",
       "      <td>2</td>\n",
       "      <td>010112159052 01P0                             ...</td>\n",
       "      <td>M</td>\n",
       "      <td>134</td>\n",
       "      <td>763</td>\n",
       "      <td>1564</td>\n",
       "    </tr>\n",
       "  </tbody>\n",
       "</table>\n",
       "</div>"
      ],
      "text/plain": [
       "                                       Артикул новый  \\\n",
       "0  010112159012 0100                             ...   \n",
       "1  010112159052 01P0                             ...   \n",
       "2  010112159052 01P0                             ...   \n",
       "\n",
       "                      Размер  Остаток на складе, шт.  Себестоимость, руб.  \\\n",
       "0  M                                             118                 1211   \n",
       "1  L                                             247                  465   \n",
       "2  M                                             134                  763   \n",
       "\n",
       "   Цена продажи, руб.  \n",
       "0                2846  \n",
       "1                1311  \n",
       "2                1564  "
      ]
     },
     "execution_count": 5,
     "metadata": {},
     "output_type": "execute_result"
    }
   ],
   "source": [
    "remains.head(3)"
   ]
  },
  {
   "cell_type": "code",
   "execution_count": 6,
   "metadata": {},
   "outputs": [],
   "source": [
    "def fix_index(row):\n",
    "    old_code = row['Артикул старый']\n",
    "    split_code =  old_code.split('/')\n",
    "    if len(split_code[0]) == 12:\n",
    "        new_code = (split_code[0] + split_code[1])\n",
    "        return new_code\n",
    "    if len(split_code[0]) == 14:\n",
    "        new_code = (''.join(list(split_code[0])[0:12]) + split_code[1] + ''.join(list(split_code[0])[12:14]))\n",
    "        return new_code\n",
    "    if len(split_code[0]) == 16:\n",
    "        new_code = split_code[0]\n",
    "        return new_code    \n",
    "    else:\n",
    "        return old_code"
   ]
  },
  {
   "cell_type": "code",
   "execution_count": 7,
   "metadata": {},
   "outputs": [],
   "source": [
    "sales['new_code'] = sales.apply(fix_index, axis = 1) "
   ]
  },
  {
   "cell_type": "code",
   "execution_count": 8,
   "metadata": {},
   "outputs": [
    {
     "data": {
      "text/html": [
       "<div>\n",
       "<style scoped>\n",
       "    .dataframe tbody tr th:only-of-type {\n",
       "        vertical-align: middle;\n",
       "    }\n",
       "\n",
       "    .dataframe tbody tr th {\n",
       "        vertical-align: top;\n",
       "    }\n",
       "\n",
       "    .dataframe thead th {\n",
       "        text-align: right;\n",
       "    }\n",
       "</style>\n",
       "<table border=\"1\" class=\"dataframe\">\n",
       "  <thead>\n",
       "    <tr style=\"text-align: right;\">\n",
       "      <th></th>\n",
       "      <th>Артикул старый</th>\n",
       "      <th>Размер</th>\n",
       "      <th>Месяц</th>\n",
       "      <th>Продажи, шт.</th>\n",
       "      <th>new_code</th>\n",
       "    </tr>\n",
       "  </thead>\n",
       "  <tbody>\n",
       "    <tr>\n",
       "      <td>612</td>\n",
       "      <td>22024729Z011/51D0</td>\n",
       "      <td>M</td>\n",
       "      <td>7</td>\n",
       "      <td>125</td>\n",
       "      <td>22024729Z01151D0</td>\n",
       "    </tr>\n",
       "    <tr>\n",
       "      <td>58101</td>\n",
       "      <td>210263295083M1/35</td>\n",
       "      <td>S</td>\n",
       "      <td>9</td>\n",
       "      <td>109</td>\n",
       "      <td>21026329508335M1</td>\n",
       "    </tr>\n",
       "    <tr>\n",
       "      <td>42606</td>\n",
       "      <td>010257S2301200/69</td>\n",
       "      <td>S</td>\n",
       "      <td>6</td>\n",
       "      <td>82</td>\n",
       "      <td>010257S230126900</td>\n",
       "    </tr>\n",
       "    <tr>\n",
       "      <td>43894</td>\n",
       "      <td>01025227W033S0/51</td>\n",
       "      <td>XL</td>\n",
       "      <td>6</td>\n",
       "      <td>81</td>\n",
       "      <td>01025227W03351S0</td>\n",
       "    </tr>\n",
       "    <tr>\n",
       "      <td>3411</td>\n",
       "      <td>21025321U44300/58</td>\n",
       "      <td>S</td>\n",
       "      <td>8</td>\n",
       "      <td>48</td>\n",
       "      <td>21025321U4435800</td>\n",
       "    </tr>\n",
       "  </tbody>\n",
       "</table>\n",
       "</div>"
      ],
      "text/plain": [
       "          Артикул старый Размер  Месяц  Продажи, шт.          new_code\n",
       "612    22024729Z011/51D0      M      7           125  22024729Z01151D0\n",
       "58101  210263295083M1/35      S      9           109  21026329508335M1\n",
       "42606  010257S2301200/69      S      6            82  010257S230126900\n",
       "43894  01025227W033S0/51     XL      6            81  01025227W03351S0\n",
       "3411   21025321U44300/58      S      8            48  21025321U4435800"
      ]
     },
     "execution_count": 8,
     "metadata": {},
     "output_type": "execute_result"
    }
   ],
   "source": [
    "sales.sample(5)"
   ]
  },
  {
   "cell_type": "code",
   "execution_count": 9,
   "metadata": {},
   "outputs": [],
   "source": [
    "# def len_code(row):\n",
    "#     lentgh = len(row['new_code'])\n",
    "#     return lentgh\n",
    "\n",
    "# sales['code_size'] = sales.apply(len_code, axis = 1)"
   ]
  },
  {
   "cell_type": "code",
   "execution_count": null,
   "metadata": {},
   "outputs": [],
   "source": []
  }
 ],
 "metadata": {
  "kernelspec": {
   "display_name": "Python 3",
   "language": "python",
   "name": "python3"
  },
  "language_info": {
   "codemirror_mode": {
    "name": "ipython",
    "version": 3
   },
   "file_extension": ".py",
   "mimetype": "text/x-python",
   "name": "python",
   "nbconvert_exporter": "python",
   "pygments_lexer": "ipython3",
   "version": "3.7.4"
  }
 },
 "nbformat": 4,
 "nbformat_minor": 2
}
